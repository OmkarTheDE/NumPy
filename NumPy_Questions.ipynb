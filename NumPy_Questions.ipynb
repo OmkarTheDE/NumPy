{
 "cells": [
  {
   "cell_type": "code",
   "execution_count": 110,
   "metadata": {},
   "outputs": [],
   "source": [
    "import numpy as np"
   ]
  },
  {
   "cell_type": "markdown",
   "metadata": {},
   "source": []
  },
  {
   "cell_type": "markdown",
   "metadata": {},
   "source": [
    "## 1. How do you create a NumPy array from a list?"
   ]
  },
  {
   "cell_type": "code",
   "execution_count": 111,
   "metadata": {},
   "outputs": [],
   "source": [
    "lst1=[1,2,3,4,5,6,78,9,5]\n"
   ]
  },
  {
   "cell_type": "code",
   "execution_count": 112,
   "metadata": {},
   "outputs": [
    {
     "name": "stdout",
     "output_type": "stream",
     "text": [
      "[ 1  2  3  4  5  6 78  9  5]\n"
     ]
    }
   ],
   "source": [
    "arr=np.array(lst1)\n",
    "print(arr)"
   ]
  },
  {
   "cell_type": "markdown",
   "metadata": {},
   "source": [
    "## 2. What is the difference between np.array() and np.asarray()?\n"
   ]
  },
  {
   "cell_type": "code",
   "execution_count": 113,
   "metadata": {},
   "outputs": [
    {
     "name": "stdout",
     "output_type": "stream",
     "text": [
      "[ 1  2  3  4  5  6 78  9  5]\n"
     ]
    }
   ],
   "source": [
    "arr=np.array(lst1)\n",
    "print(arr)"
   ]
  },
  {
   "cell_type": "code",
   "execution_count": 114,
   "metadata": {},
   "outputs": [
    {
     "name": "stdout",
     "output_type": "stream",
     "text": [
      "[ 1  2  3  4  5  6 78  9  5]\n"
     ]
    }
   ],
   "source": [
    "asarr=np.asarray(lst1)\n",
    "print(asarr)"
   ]
  },
  {
   "cell_type": "markdown",
   "metadata": {},
   "source": [
    "## 3. How do you create a multidimensional array in NumPy?\n"
   ]
  },
  {
   "cell_type": "code",
   "execution_count": 115,
   "metadata": {},
   "outputs": [],
   "source": [
    "multi_arr=np.array([\n",
    "    [1,2,3,4,5,6,9],\n",
    "    [4,5,6,78,9,7,8],\n",
    "    [12,35,65,98,65,87,45]\n",
    "])"
   ]
  },
  {
   "cell_type": "code",
   "execution_count": 116,
   "metadata": {},
   "outputs": [
    {
     "data": {
      "text/plain": [
       "2"
      ]
     },
     "execution_count": 116,
     "metadata": {},
     "output_type": "execute_result"
    }
   ],
   "source": [
    "multi_arr.ndim"
   ]
  },
  {
   "cell_type": "code",
   "execution_count": 117,
   "metadata": {},
   "outputs": [
    {
     "data": {
      "text/plain": [
       "(3, 7)"
      ]
     },
     "execution_count": 117,
     "metadata": {},
     "output_type": "execute_result"
    }
   ],
   "source": [
    "multi_arr.shape"
   ]
  },
  {
   "cell_type": "markdown",
   "metadata": {},
   "source": [
    "## 4. What is the shape of a NumPy array?\n"
   ]
  },
  {
   "cell_type": "code",
   "execution_count": 118,
   "metadata": {},
   "outputs": [
    {
     "data": {
      "text/plain": [
       "(3, 7)"
      ]
     },
     "execution_count": 118,
     "metadata": {},
     "output_type": "execute_result"
    }
   ],
   "source": [
    "multi_arr.shape"
   ]
  },
  {
   "cell_type": "markdown",
   "metadata": {},
   "source": [
    "## 5. How do you access elements in a NumPy array?\n"
   ]
  },
  {
   "cell_type": "code",
   "execution_count": 119,
   "metadata": {},
   "outputs": [
    {
     "data": {
      "text/plain": [
       "np.int64(87)"
      ]
     },
     "execution_count": 119,
     "metadata": {},
     "output_type": "execute_result"
    }
   ],
   "source": [
    "multi_arr[2][5]"
   ]
  },
  {
   "cell_type": "markdown",
   "metadata": {},
   "source": [
    "## 6. How do you slice a NumPy array?\n"
   ]
  },
  {
   "cell_type": "code",
   "execution_count": 120,
   "metadata": {},
   "outputs": [
    {
     "data": {
      "text/plain": [
       "array([[ 1,  2,  3,  4,  5,  6,  9],\n",
       "       [ 4,  5,  6, 78,  9,  7,  8],\n",
       "       [12, 35, 65, 98, 65, 87, 45]])"
      ]
     },
     "execution_count": 120,
     "metadata": {},
     "output_type": "execute_result"
    }
   ],
   "source": [
    "multi_arr[0::]\n"
   ]
  },
  {
   "cell_type": "code",
   "execution_count": 121,
   "metadata": {},
   "outputs": [
    {
     "data": {
      "text/plain": [
       "array([[ 4,  5,  6, 78,  9,  7,  8],\n",
       "       [12, 35, 65, 98, 65, 87, 45]])"
      ]
     },
     "execution_count": 121,
     "metadata": {},
     "output_type": "execute_result"
    }
   ],
   "source": [
    "multi_arr[1::]"
   ]
  },
  {
   "cell_type": "code",
   "execution_count": 122,
   "metadata": {},
   "outputs": [
    {
     "data": {
      "text/plain": [
       "array([[12, 35, 65, 98, 65, 87, 45],\n",
       "       [ 4,  5,  6, 78,  9,  7,  8],\n",
       "       [ 1,  2,  3,  4,  5,  6,  9]])"
      ]
     },
     "execution_count": 122,
     "metadata": {},
     "output_type": "execute_result"
    }
   ],
   "source": [
    "multi_arr[::-1]"
   ]
  },
  {
   "cell_type": "markdown",
   "metadata": {},
   "source": [
    "## 7. What is the difference between indexing and slicing in NumPy?\n"
   ]
  },
  {
   "cell_type": "code",
   "execution_count": 123,
   "metadata": {},
   "outputs": [
    {
     "name": "stdout",
     "output_type": "stream",
     "text": [
      "[[ 0  2  4  6]\n",
      " [ 8 10 12 14]\n",
      " [16 18 20 22]\n",
      " [24 26 28 30]]\n"
     ]
    }
   ],
   "source": [
    "# indixing \n",
    "arr=np.arange(0,32,2)\n",
    "arr=arr.reshape(4,4)\n",
    "print(arr)"
   ]
  },
  {
   "cell_type": "code",
   "execution_count": 124,
   "metadata": {},
   "outputs": [
    {
     "data": {
      "text/plain": [
       "np.int64(12)"
      ]
     },
     "execution_count": 124,
     "metadata": {},
     "output_type": "execute_result"
    }
   ],
   "source": [
    "arr[1][2]"
   ]
  },
  {
   "cell_type": "code",
   "execution_count": 125,
   "metadata": {},
   "outputs": [
    {
     "data": {
      "text/plain": [
       "array([[ 8, 10, 12, 14],\n",
       "       [16, 18, 20, 22],\n",
       "       [24, 26, 28, 30]])"
      ]
     },
     "execution_count": 125,
     "metadata": {},
     "output_type": "execute_result"
    }
   ],
   "source": [
    "# slicing\n",
    "arr[1:]"
   ]
  },
  {
   "cell_type": "markdown",
   "metadata": {},
   "source": [
    "## 8. How do you perform basic arithmetic operations on NumPy arrays?\n"
   ]
  },
  {
   "cell_type": "code",
   "execution_count": 126,
   "metadata": {},
   "outputs": [
    {
     "name": "stdout",
     "output_type": "stream",
     "text": [
      "First array\n"
     ]
    },
    {
     "data": {
      "text/plain": [
       "array([ 0,  2,  4,  6,  8, 10, 12, 14, 16, 18])"
      ]
     },
     "execution_count": 126,
     "metadata": {},
     "output_type": "execute_result"
    }
   ],
   "source": [
    "print(\"First array\")\n",
    "arr1=np.arange(0,20,2)\n",
    "arr1=arr1.reshape(10)\n",
    "arr1"
   ]
  },
  {
   "cell_type": "code",
   "execution_count": 127,
   "metadata": {},
   "outputs": [
    {
     "name": "stdout",
     "output_type": "stream",
     "text": [
      "Second array\n",
      "[ 0  3  6  9 12 15 18 21 24 27]\n"
     ]
    }
   ],
   "source": [
    "print(\"Second array\")\n",
    "arr2=np.arange(0,30,3)\n",
    "arr2=arr2.reshape(10)\n",
    "print(arr2)"
   ]
  },
  {
   "cell_type": "code",
   "execution_count": 128,
   "metadata": {},
   "outputs": [
    {
     "name": "stdout",
     "output_type": "stream",
     "text": [
      "[ 0  5 10 15 20 25 30 35 40 45]\n",
      "\n",
      "\n",
      "Substraction\n",
      "[ 0 -1 -2 -3 -4 -5 -6 -7 -8 -9]\n",
      "\n",
      "\n",
      "Multiplication\n",
      "[  0   6  24  54  96 150 216 294 384 486]\n",
      "\n",
      "\n",
      "Division\n",
      "[       nan 0.66666667 0.66666667 0.66666667 0.66666667 0.66666667\n",
      " 0.66666667 0.66666667 0.66666667 0.66666667]\n"
     ]
    },
    {
     "name": "stderr",
     "output_type": "stream",
     "text": [
      "C:\\Users\\omkar\\AppData\\Local\\Temp\\ipykernel_6412\\3538551885.py:17: RuntimeWarning: invalid value encountered in divide\n",
      "  print(np.divide(arr1,arr2))\n"
     ]
    }
   ],
   "source": [
    "# addition\n",
    "print(np.add(arr1,arr2))\n",
    "\n",
    "# substract\n",
    "print(\"\\n\")\n",
    "print(\"Substraction\")\n",
    "print(np.subtract(arr1,arr2))\n",
    "\n",
    "# multiply\n",
    "print(\"\\n\")\n",
    "print(\"Multiplication\")\n",
    "print(np.multiply(arr1,arr2))\n",
    "\n",
    "# divide\n",
    "print(\"\\n\")\n",
    "print(\"Division\")\n",
    "print(np.divide(arr1,arr2))"
   ]
  },
  {
   "cell_type": "markdown",
   "metadata": {},
   "source": [
    "## 9. How do you perform element-wise operations on NumPy arrays?\n"
   ]
  },
  {
   "cell_type": "code",
   "execution_count": 129,
   "metadata": {},
   "outputs": [
    {
     "name": "stdout",
     "output_type": "stream",
     "text": [
      "[ 0  2  4  6  8 10 12 14 16 18]\n",
      "[ 0  3  6  9 12 15 18 21 24 27]\n",
      "element vise addition:- [ 0  5 10 15 20 25 30 35 40 45]\n"
     ]
    }
   ],
   "source": [
    "print(arr1)\n",
    "print(arr2)\n",
    "\n",
    "add=np.add(arr1,arr2)\n",
    "print(\"element vise addition:-\",add)"
   ]
  },
  {
   "cell_type": "code",
   "execution_count": 130,
   "metadata": {},
   "outputs": [
    {
     "name": "stdout",
     "output_type": "stream",
     "text": [
      "first array:- [ 0  2  4  6  8 10 12 14 16 18]\n",
      "\n",
      "\n",
      "Second array:- [ 0  3  6  9 12 15 18 21 24 27]\n",
      "\n",
      "\n",
      "element wise substraction:- [ 0 -1 -2 -3 -4 -5 -6 -7 -8 -9]\n"
     ]
    }
   ],
   "source": [
    "# substraction \n",
    "print(\"first array:-\",arr1)\n",
    "print(\"\\n\")\n",
    "\n",
    "print(\"Second array:-\",arr2)\n",
    "print(\"\\n\")\n",
    "add=np.subtract(arr1,arr2)\n",
    "print(\"element wise substraction:-\",add)\n"
   ]
  },
  {
   "cell_type": "code",
   "execution_count": 131,
   "metadata": {},
   "outputs": [
    {
     "name": "stdout",
     "output_type": "stream",
     "text": [
      "first array:- [ 0  2  4  6  8 10 12 14 16 18]\n",
      "\n",
      "\n",
      "Second array:- [ 0  3  6  9 12 15 18 21 24 27]\n",
      "\n",
      "\n",
      "element wise substraction:- [  0   6  24  54  96 150 216 294 384 486]\n"
     ]
    }
   ],
   "source": [
    "# multiplication\n",
    "\n",
    "print(\"first array:-\",arr1)\n",
    "print(\"\\n\")\n",
    "\n",
    "print(\"Second array:-\",arr2)\n",
    "print(\"\\n\")\n",
    "add=np.multiply(arr1,arr2)\n",
    "print(\"element wise substraction:-\",add)\n"
   ]
  },
  {
   "cell_type": "code",
   "execution_count": 132,
   "metadata": {},
   "outputs": [
    {
     "name": "stdout",
     "output_type": "stream",
     "text": [
      "first array:- [ 0  2  4  6  8 10 12 14 16 18]\n",
      "\n",
      "\n",
      "Second array:- [ 0  3  6  9 12 15 18 21 24 27]\n",
      "\n",
      "\n",
      "element wise division:- [       nan 0.66666667 0.66666667 0.66666667 0.66666667 0.66666667\n",
      " 0.66666667 0.66666667 0.66666667 0.66666667]\n"
     ]
    },
    {
     "name": "stderr",
     "output_type": "stream",
     "text": [
      "C:\\Users\\omkar\\AppData\\Local\\Temp\\ipykernel_6412\\719214870.py:8: RuntimeWarning: invalid value encountered in divide\n",
      "  add=np.divide(arr1,arr2)\n"
     ]
    }
   ],
   "source": [
    "# division \n",
    "\n",
    "print(\"first array:-\",arr1)\n",
    "print(\"\\n\")\n",
    "\n",
    "print(\"Second array:-\",arr2)\n",
    "print(\"\\n\")\n",
    "add=np.divide(arr1,arr2)\n",
    "print(\"element wise division:-\",add)\n"
   ]
  },
  {
   "cell_type": "markdown",
   "metadata": {},
   "source": [
    "## 10. What is broadcasting in NumPy?"
   ]
  },
  {
   "cell_type": "code",
   "execution_count": 133,
   "metadata": {},
   "outputs": [
    {
     "name": "stdout",
     "output_type": "stream",
     "text": [
      "[  2   4   6 112  96]\n"
     ]
    }
   ],
   "source": [
    "arr1=np.array([1,2,3,56,48])\n",
    "\n",
    "print(arr1*2)\n"
   ]
  },
  {
   "cell_type": "markdown",
   "metadata": {},
   "source": [
    "## 13. How do you create a NumPy array with a specific data type?\n"
   ]
  },
  {
   "cell_type": "code",
   "execution_count": 134,
   "metadata": {},
   "outputs": [
    {
     "name": "stdout",
     "output_type": "stream",
     "text": [
      "['1' '2' '3' '6' '5' '5']\n",
      "\n",
      "\n",
      "[1.+0.j 5.+0.j 6.+0.j 8.+0.j 9.+0.j]\n"
     ]
    }
   ],
   "source": [
    "# creation of string array\n",
    "arr=np.array([1,2,3,6,5,5],dtype=str)\n",
    "print(arr)\n",
    "print(\"\\n\")\n",
    "\n",
    "# creation of complex datatype array?\\\n",
    "arr1=np.array([1,5,6,8,9,],dtype=complex)\n",
    "print(arr1)"
   ]
  },
  {
   "cell_type": "markdown",
   "metadata": {},
   "source": [
    "## 14. What is the difference between np.int32 and np.int64?\n"
   ]
  },
  {
   "cell_type": "code",
   "execution_count": 135,
   "metadata": {},
   "outputs": [
    {
     "name": "stdout",
     "output_type": "stream",
     "text": [
      "[ 1  2 23]\n",
      "int32\n",
      "\n",
      "\n",
      "[ 1  2 23]\n",
      "int64\n"
     ]
    }
   ],
   "source": [
    "arr=np.array([1.0,2.5,23.5],dtype='int32')\n",
    "print(arr)\n",
    "print(arr.dtype)\n",
    "print(\"\\n\")\n",
    "arr=np.array([1.0,2.5,23.5],dtype='int64')\n",
    "print(arr)\n",
    "print(arr.dtype)"
   ]
  },
  {
   "cell_type": "markdown",
   "metadata": {},
   "source": [
    "## 15. How do you convert a NumPy array to a Python list?\n"
   ]
  },
  {
   "cell_type": "code",
   "execution_count": 136,
   "metadata": {},
   "outputs": [
    {
     "name": "stdout",
     "output_type": "stream",
     "text": [
      "[21 16 30 38  5]\n",
      "<class 'numpy.ndarray'>\n",
      "\n",
      "\n",
      "[np.int32(21), np.int32(16), np.int32(30), np.int32(38), np.int32(5)]\n",
      "<class 'list'>\n"
     ]
    }
   ],
   "source": [
    "arr=np.random.randint(0,45,size=5)\n",
    "print(arr)\n",
    "print(type(arr))\n",
    "print(\"\\n\")\n",
    "lst=list(arr)\n",
    "print(lst)\n",
    "print(type(lst))"
   ]
  },
  {
   "cell_type": "markdown",
   "metadata": {},
   "source": [
    " ## How do you use np.unique() to get unique elements in an array?\n"
   ]
  },
  {
   "cell_type": "code",
   "execution_count": 137,
   "metadata": {},
   "outputs": [
    {
     "name": "stdout",
     "output_type": "stream",
     "text": [
      "[87 15 17 40 42 18 90  5 46 51 12 50 16 20 72 78 13  3 33 19]\n",
      "\n",
      "\n",
      "[ 1  2  3  4  5  6  8  9 10]\n"
     ]
    }
   ],
   "source": [
    "arr=np.random.randint(0,95,size=20)\n",
    "print(arr)\n",
    "print(\"\\n\")\n",
    "arr1=np.array([1,2,3,5,6,4,8,9,9,5,5,6,3,3,3,2,2,4,4,10])\n",
    "print(np.unique(arr1))"
   ]
  },
  {
   "cell_type": "markdown",
   "metadata": {},
   "source": [
    " ## How do you use np.sort() to sort an array?\n",
    "\n",
    " "
   ]
  },
  {
   "cell_type": "code",
   "execution_count": 138,
   "metadata": {},
   "outputs": [
    {
     "name": "stdout",
     "output_type": "stream",
     "text": [
      "This is unsorted array [14 10 55 16 38 44 30 12 19 55 44 42 14 48 25]\n",
      "This is sorted array:- [10 12 14 14 16 19 25 30 38 42 44 44 48 55 55]\n"
     ]
    }
   ],
   "source": [
    "arr=np.random.randint(0,56,size=15)\n",
    "print(\"This is unsorted array\",arr)\n",
    "\n",
    "print(\"This is sorted array:-\",np.sort(arr))\n"
   ]
  },
  {
   "cell_type": "markdown",
   "metadata": {},
   "source": [
    "##  How do you use np.all() to check if all elements in an array are true?"
   ]
  },
  {
   "cell_type": "code",
   "execution_count": 139,
   "metadata": {},
   "outputs": [
    {
     "name": "stdout",
     "output_type": "stream",
     "text": [
      "[14 10 55 16 38 44 30 12 19 55 44 42 14 48 25]\n",
      "True\n"
     ]
    }
   ],
   "source": [
    "print(arr)\n",
    "print(np.all(a=arr))"
   ]
  },
  {
   "cell_type": "markdown",
   "metadata": {},
   "source": [
    "## How do you use np.where() to create a conditional array?"
   ]
  },
  {
   "cell_type": "code",
   "execution_count": 140,
   "metadata": {},
   "outputs": [
    {
     "name": "stdout",
     "output_type": "stream",
     "text": [
      "This is orignal array:- [26 50 29 40  7 12  5  5 52 33 49 21 19 49  7 19 47 21 30 43]\n"
     ]
    }
   ],
   "source": [
    "arr=np.random.randint(0,56,size=20)\n",
    "print(\"This is orignal array:-\",arr)\n",
    "\n"
   ]
  },
  {
   "cell_type": "markdown",
   "metadata": {},
   "source": [
    "## How do you create a NumPy array with random values?\n",
    " \n",
    " "
   ]
  },
  {
   "cell_type": "code",
   "execution_count": 143,
   "metadata": {},
   "outputs": [
    {
     "name": "stdout",
     "output_type": "stream",
     "text": [
      "[ 0 12 13  5 12]\n"
     ]
    }
   ],
   "source": [
    "arr=np.random.randint(0,20,size=5)\n",
    "print(arr)"
   ]
  },
  {
   "cell_type": "markdown",
   "metadata": {},
   "source": [
    "## How do you use np.random.rand() to create an array with random values?\n",
    "\n"
   ]
  },
  {
   "cell_type": "code",
   "execution_count": 147,
   "metadata": {},
   "outputs": [
    {
     "name": "stdout",
     "output_type": "stream",
     "text": [
      "0.67969296241276\n"
     ]
    }
   ],
   "source": [
    "arr=np.random.rand()\n",
    "print(arr)"
   ]
  },
  {
   "cell_type": "markdown",
   "metadata": {},
   "source": [
    "##  How do you use np.random.normal() to create an array with random values?"
   ]
  },
  {
   "cell_type": "code",
   "execution_count": 149,
   "metadata": {},
   "outputs": [
    {
     "name": "stdout",
     "output_type": "stream",
     "text": [
      "-0.4240371209445219\n"
     ]
    }
   ],
   "source": [
    "arr=np.random.normal()\n",
    "print(arr)"
   ]
  },
  {
   "cell_type": "markdown",
   "metadata": {},
   "source": [
    "17. What is the purpose of np.reshape()?\n",
    "18. How do you use np.reshape() to change the shape of an array?\n",
    "19. What is the purpose of np.transpose()?\n",
    "20. How do you use np.transpose() to swap axes in an array?\n",
    "21. What is the purpose of np.swapaxes()?\n",
    "22. How do you use np.swapaxes() to swap axes in an array?\n",
    "23. What is the purpose of np.flatten()?\n",
    "24. How do you use np.flatten() to flatten an array?\n",
    "25. What is the purpose of np.ravel()?\n",
    "26. How do you use np.ravel() to flatten an array?\n",
    "27. What is the difference between np.flatten() and np.ravel()?"
   ]
  },
  {
   "cell_type": "markdown",
   "metadata": {},
   "source": []
  }
 ],
 "metadata": {
  "kernelspec": {
   "display_name": "Python 3",
   "language": "python",
   "name": "python3"
  },
  "language_info": {
   "codemirror_mode": {
    "name": "ipython",
    "version": 3
   },
   "file_extension": ".py",
   "mimetype": "text/x-python",
   "name": "python",
   "nbconvert_exporter": "python",
   "pygments_lexer": "ipython3",
   "version": "3.12.2"
  }
 },
 "nbformat": 4,
 "nbformat_minor": 2
}
